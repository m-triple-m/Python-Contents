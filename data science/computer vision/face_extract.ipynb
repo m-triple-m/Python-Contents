{
 "cells": [
  {
   "cell_type": "code",
   "execution_count": 1,
   "metadata": {},
   "outputs": [],
   "source": [
    "import cv2\n",
    "import os"
   ]
  },
  {
   "cell_type": "code",
   "execution_count": null,
   "metadata": {},
   "outputs": [],
   "source": [
    "img = cv2.imread('citation.jpg')"
   ]
  },
  {
   "cell_type": "markdown",
   "metadata": {},
   "source": [
    "## Program to identify all face in an image"
   ]
  },
  {
   "cell_type": "code",
   "execution_count": 35,
   "metadata": {},
   "outputs": [
    {
     "data": {
      "text/plain": [
       "True"
      ]
     },
     "execution_count": 35,
     "metadata": {},
     "output_type": "execute_result"
    }
   ],
   "source": [
    "# loading the classifier\n",
    "face_detector = cv2.CascadeClassifier('face_classifier.xml')\n",
    "\n",
    "# detecting the faces\n",
    "detected_faces = face_detector.detectMultiScale(img, 1.1, 5)\n",
    "\n",
    "\n",
    "# marking the faces\n",
    "for (x, y, w, h) in detected_faces:\n",
    "    cv2.rectangle(img, (x, y), (x+w, y+h), (0, 255, 0), 4)\n",
    "\n",
    "cv2.imwrite('detected_citation_img.jpg', img)"
   ]
  },
  {
   "cell_type": "markdown",
   "metadata": {},
   "source": [
    "## Program to extract and save all the faces in an image"
   ]
  },
  {
   "cell_type": "code",
   "execution_count": 32,
   "metadata": {},
   "outputs": [
    {
     "name": "stdout",
     "output_type": "stream",
     "text": [
      "[WinError 183] Cannot create a file when that file already exists: './faces'\n"
     ]
    }
   ],
   "source": [
    "# loading the classifier\n",
    "face_detector = cv2.CascadeClassifier('face_classifier.xml')\n",
    "\n",
    "# detecting the faces\n",
    "detected_faces = face_detector.detectMultiScale(img, 1.1, 5)\n",
    "\n",
    "cropped_faces = []\n",
    "\n",
    "# marking the faces\n",
    "for (x, y, w, h) in detected_faces:\n",
    "    cropped_faces.append(img[y:y+h , x:x+w])\n",
    "\n",
    "# create folder\n",
    "try:\n",
    "    os.mkdir('./faces')\n",
    "except Exception as e:\n",
    "    print(e)\n",
    "\n",
    "for index, face in enumerate(cropped_faces):\n",
    "    # if face.size > 1: \n",
    "    cv2.imwrite(f\"faces/face{index+1}.jpg\", face)\n",
    "    # print(face.size)\n",
    "    "
   ]
  },
  {
   "cell_type": "code",
   "execution_count": 10,
   "metadata": {},
   "outputs": [
    {
     "name": "stdout",
     "output_type": "stream",
     "text": [
      "0 a\n",
      "1 b\n",
      "2 c\n"
     ]
    }
   ],
   "source": [
    "for index, ele in enumerate(['a', 'b', \"c\"]):\n",
    "    print(index, ele)"
   ]
  },
  {
   "cell_type": "code",
   "execution_count": null,
   "metadata": {},
   "outputs": [],
   "source": []
  }
 ],
 "metadata": {
  "interpreter": {
   "hash": "b3ba2566441a7c06988d0923437866b63cedc61552a5af99d1f4fb67d367b25f"
  },
  "kernelspec": {
   "display_name": "Python 3.8.8 64-bit ('base': conda)",
   "name": "python3"
  },
  "language_info": {
   "codemirror_mode": {
    "name": "ipython",
    "version": 3
   },
   "file_extension": ".py",
   "mimetype": "text/x-python",
   "name": "python",
   "nbconvert_exporter": "python",
   "pygments_lexer": "ipython3",
   "version": "3.8.8"
  },
  "orig_nbformat": 4
 },
 "nbformat": 4,
 "nbformat_minor": 2
}
