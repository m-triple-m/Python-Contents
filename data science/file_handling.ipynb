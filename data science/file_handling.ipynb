{
 "cells": [
  {
   "cell_type": "code",
   "execution_count": 1,
   "metadata": {},
   "outputs": [],
   "source": [
    "with open('app.py') as contents:\n",
    "    code = contents.read()\n",
    "    "
   ]
  },
  {
   "cell_type": "code",
   "execution_count": 11,
   "metadata": {},
   "outputs": [
    {
     "ename": "ValueError",
     "evalue": "I/O operation on closed file.",
     "output_type": "error",
     "traceback": [
      "\u001b[1;31m---------------------------------------------------------------------------\u001b[0m",
      "\u001b[1;31mValueError\u001b[0m                                Traceback (most recent call last)",
      "\u001b[1;32m~\\AppData\\Local\\Temp/ipykernel_27068/2521934165.py\u001b[0m in \u001b[0;36m<module>\u001b[1;34m\u001b[0m\n\u001b[1;32m----> 1\u001b[1;33m \u001b[0mcontents\u001b[0m\u001b[1;33m.\u001b[0m\u001b[0mread\u001b[0m\u001b[1;33m(\u001b[0m\u001b[1;33m)\u001b[0m\u001b[1;33m\u001b[0m\u001b[1;33m\u001b[0m\u001b[0m\n\u001b[0m",
      "\u001b[1;31mValueError\u001b[0m: I/O operation on closed file."
     ]
    }
   ],
   "source": [
    "contents.read()"
   ]
  },
  {
   "cell_type": "code",
   "execution_count": 5,
   "metadata": {},
   "outputs": [
    {
     "data": {
      "text/plain": [
       "3"
      ]
     },
     "execution_count": 5,
     "metadata": {},
     "output_type": "execute_result"
    }
   ],
   "source": [
    "code.count('import')"
   ]
  },
  {
   "cell_type": "code",
   "execution_count": 6,
   "metadata": {},
   "outputs": [
    {
     "data": {
      "text/plain": [
       "11"
      ]
     },
     "execution_count": 6,
     "metadata": {},
     "output_type": "execute_result"
    }
   ],
   "source": [
    "code.count('st')"
   ]
  },
  {
   "cell_type": "code",
   "execution_count": 8,
   "metadata": {},
   "outputs": [
    {
     "name": "stdout",
     "output_type": "stream",
     "text": [
      "import streamlit as st\n",
      "import pandas as pd\n",
      "import plotly.express as px\n",
      "\n",
      "sidebar = st.sidebar\n",
      "\n",
      "sidebar.title(\"Sidebar Title Here\")\n",
      "btn1 = sidebar.button(\"Get Balloons\")\n",
      "\n",
      "if btn1:\n",
      "    st.balloons()\n",
      "\n",
      "st.title(\"Streamlit App\")\n",
      "name = st.text_input(\"Enter your name\")\n",
      "btn = st.button(\"Submit\")\n",
      "\n",
      "if btn:\n",
      "    st.text(f\"You entered name {name}\")\n",
      "\n",
      "\n",
      "st.image('coin.jpg', use_column_width=True)\n",
      "\n",
      "df = pd.read_csv('Pokemon.csv')\n",
      "\n",
      "\n",
      "st.dataframe(df)\n",
      "fig = px.bar(data_frame=df, x='Name', y='Speed', color='Type 1')\n",
      "st.plotly_chart(fig, use_container_width=True)\n",
      "\n"
     ]
    }
   ],
   "source": [
    "file_contents = open('app.py')\n",
    "print(file_contents.read())\n",
    "\n",
    "file_contents.close()"
   ]
  },
  {
   "cell_type": "code",
   "execution_count": 10,
   "metadata": {},
   "outputs": [
    {
     "ename": "ValueError",
     "evalue": "I/O operation on closed file.",
     "output_type": "error",
     "traceback": [
      "\u001b[1;31m---------------------------------------------------------------------------\u001b[0m",
      "\u001b[1;31mValueError\u001b[0m                                Traceback (most recent call last)",
      "\u001b[1;32m~\\AppData\\Local\\Temp/ipykernel_27068/3370194045.py\u001b[0m in \u001b[0;36m<module>\u001b[1;34m\u001b[0m\n\u001b[1;32m----> 1\u001b[1;33m \u001b[0mfile_contents\u001b[0m\u001b[1;33m.\u001b[0m\u001b[0mread\u001b[0m\u001b[1;33m(\u001b[0m\u001b[1;33m)\u001b[0m\u001b[1;33m\u001b[0m\u001b[1;33m\u001b[0m\u001b[0m\n\u001b[0m",
      "\u001b[1;31mValueError\u001b[0m: I/O operation on closed file."
     ]
    }
   ],
   "source": [
    "file_contents.read()"
   ]
  },
  {
   "cell_type": "code",
   "execution_count": 18,
   "metadata": {},
   "outputs": [],
   "source": [
    "with open('new.txt', 'w') as newfile:\n",
    "    newfile.write(\"another content\")"
   ]
  },
  {
   "cell_type": "code",
   "execution_count": 21,
   "metadata": {},
   "outputs": [],
   "source": [
    "with open('new.txt', 'a') as newfile:\n",
    "    newfile.write(\"\\nline 3\")"
   ]
  },
  {
   "cell_type": "code",
   "execution_count": 25,
   "metadata": {},
   "outputs": [],
   "source": [
    "with open('app.py', 'r') as mycode:\n",
    "    t = mycode.read()\n",
    "    t+=\"\\n# -------Code copied with python script--------\"\n",
    "    with open('app_copy.py', 'w') as copier:\n",
    "        copier.write(t)"
   ]
  },
  {
   "cell_type": "code",
   "execution_count": 26,
   "metadata": {},
   "outputs": [],
   "source": [
    "import os"
   ]
  },
  {
   "cell_type": "code",
   "execution_count": 28,
   "metadata": {},
   "outputs": [
    {
     "data": {
      "text/plain": [
       "['app.py',\n",
       " 'app_copy.py',\n",
       " 'array_processing.ipynb',\n",
       " 'Canada.xlsx',\n",
       " 'cleaned_data.csv',\n",
       " 'coin.jpg',\n",
       " 'data_cleaning.ipynb',\n",
       " 'data_visualization.ipynb',\n",
       " 'file_handling.ipynb',\n",
       " 'imdbscrapper.ipynb',\n",
       " 'loadingData.ipynb',\n",
       " 'new.txt',\n",
       " 'plotly.ipynb',\n",
       " 'Pokemon.csv',\n",
       " 'scrapping_homework.ipynb',\n",
       " 'webscraping.ipynb']"
      ]
     },
     "execution_count": 28,
     "metadata": {},
     "output_type": "execute_result"
    }
   ],
   "source": [
    "os.listdir()"
   ]
  },
  {
   "cell_type": "code",
   "execution_count": 29,
   "metadata": {},
   "outputs": [
    {
     "data": {
      "text/plain": [
       "'c:\\\\Summer Training\\\\DP__PyDS_11-00\\\\data science'"
      ]
     },
     "execution_count": 29,
     "metadata": {},
     "output_type": "execute_result"
    }
   ],
   "source": [
    "os.getcwd()"
   ]
  },
  {
   "cell_type": "code",
   "execution_count": 31,
   "metadata": {},
   "outputs": [],
   "source": [
    "jpg, png, webp = os.listdir('d:/video_categories')"
   ]
  },
  {
   "cell_type": "code",
   "execution_count": 32,
   "metadata": {},
   "outputs": [
    {
     "data": {
      "text/plain": [
       "['action.jpg',\n",
       " 'action2.jpg',\n",
       " 'adventure.jpg',\n",
       " 'animation.jpg',\n",
       " 'comedy.jpg',\n",
       " 'crime.jpeg',\n",
       " 'documentory.jpg',\n",
       " 'fantasy.jpg',\n",
       " 'horror.jpg',\n",
       " 'horror2.jpg',\n",
       " 'login-back.jpg',\n",
       " 'mystery.jpg',\n",
       " 'romantic.jpg',\n",
       " 'sci-fi2.jpg',\n",
       " 'scifi.jpg',\n",
       " 'thriller.jpg']"
      ]
     },
     "execution_count": 32,
     "metadata": {},
     "output_type": "execute_result"
    }
   ],
   "source": [
    "os.listdir( os.path.join( 'd:/video_categories', jpg ) )"
   ]
  },
  {
   "cell_type": "code",
   "execution_count": 39,
   "metadata": {},
   "outputs": [
    {
     "name": "stdout",
     "output_type": "stream",
     "text": [
      "1230\n",
      "800\n",
      "DA_Mini Project\n",
      "DP MERN stack dev\n",
      "DP_DA_3_30\n",
      "DP_DA_8_00\n",
      "DP_Java_10-00\n",
      "DP_MERN_11-00\n",
      "DP_MERN_3-30\n",
      "DP_MERN_6-30\n",
      "DP_MERN_6-30_WSS\n",
      "DP_MERN_OCT_6-30\n",
      "DP__PyDS_11-00\n",
      "extra class\n",
      "heroku\n",
      "mini project ppts\n",
      "Mini Projects\n",
      "New folder\n",
      "New folder (2)\n",
      "pyds1_830\n"
     ]
    }
   ],
   "source": [
    "for f in os.listdir('d:/Summer Training'):\n",
    "    \n",
    "    # if os.path.isfile('d:/Summer Training/'+f):\n",
    "    if os.path.isdir('d:/Summer Training/'+f):\n",
    "        print(f)"
   ]
  },
  {
   "cell_type": "code",
   "execution_count": 40,
   "metadata": {},
   "outputs": [],
   "source": [
    "os.mkdir('myfolder')"
   ]
  },
  {
   "cell_type": "code",
   "execution_count": 41,
   "metadata": {},
   "outputs": [],
   "source": [
    "os.rename('app_copy.py', 'app_original.py')"
   ]
  },
  {
   "cell_type": "code",
   "execution_count": 43,
   "metadata": {},
   "outputs": [],
   "source": [
    "os.rename('app_original.py', 'myfolder/app_original.py')"
   ]
  },
  {
   "cell_type": "code",
   "execution_count": 46,
   "metadata": {},
   "outputs": [
    {
     "name": "stdout",
     "output_type": "stream",
     "text": [
      "class Laptop:\n",
      "\n",
      "    # ram = '8 gb'\n",
      "    # brand = 'Asus'\n",
      "    # hdd = '1 tb'\n",
      "    # resolution = '1080p'\n",
      "\n",
      "    def __init__(self, brd, ram, hdd, resolution, space):\n",
      "        self.brand = brd\n",
      "        self.ram = ram\n",
      "        self.hdd = hdd\n",
      "        self.res = resolution\n",
      "        self.space = space\n",
      "\n",
      "    def playGame(self):\n",
      "        if self.ram > 8:\n",
      "            print('Laptop plays games')\n",
      "        else:\n",
      "            print('Not Sufficient RAM')\n",
      "\n",
      "    def playVideo(self):\n",
      "        print('Laptop plays videos')\n",
      "\n",
      "\n",
      "# lappy = Laptop()\n",
      "\n",
      "# lappy.playGame()\n",
      "\n",
      "# print(lappy.resolution)\n",
      "\n",
      "# lappy2 = Laptop()\n",
      "\n",
      "# print(lappy.resolution)\n",
      "\n",
      "mylappy = Laptop('ASUS', 8, '1 TB', '1080p', 124)\n",
      "\n",
      "print(mylappy.brand)\n",
      "mylappy.playGame()\n",
      "\n",
      "mylappy2 = Laptop('HP', 16, '2TB', '720p', 450)\n",
      "\n",
      "print(mylappy2.hdd)\n",
      "mylappy2.playGame()\n",
      "print(mylappy2.space)\n",
      "\n"
     ]
    }
   ],
   "source": [
    "with open('c:/Summer Training/DP__PYDS_11-00/classes.py') as f:\n",
    "    print(f.read())"
   ]
  },
  {
   "cell_type": "code",
   "execution_count": 47,
   "metadata": {},
   "outputs": [
    {
     "name": "stdout",
     "output_type": "stream",
     "text": [
      "class Laptop:\n",
      "\n",
      "    # ram = '8 gb'\n",
      "    # brand = 'Asus'\n",
      "    # hdd = '1 tb'\n",
      "    # resolution = '1080p'\n",
      "\n",
      "    def __init__(self, brd, ram, hdd, resolution, space):\n",
      "        self.brand = brd\n",
      "        self.ram = ram\n",
      "        self.hdd = hdd\n",
      "        self.res = resolution\n",
      "        self.space = space\n",
      "\n",
      "    def playGame(self):\n",
      "        if self.ram > 8:\n",
      "            print('Laptop plays games')\n",
      "        else:\n",
      "            print('Not Sufficient RAM')\n",
      "\n",
      "    def playVideo(self):\n",
      "        print('Laptop plays videos')\n",
      "\n",
      "\n",
      "# lappy = Laptop()\n",
      "\n",
      "# lappy.playGame()\n",
      "\n",
      "# print(lappy.resolution)\n",
      "\n",
      "# lappy2 = Laptop()\n",
      "\n",
      "# print(lappy.resolution)\n",
      "\n",
      "mylappy = Laptop('ASUS', 8, '1 TB', '1080p', 124)\n",
      "\n",
      "print(mylappy.brand)\n",
      "mylappy.playGame()\n",
      "\n",
      "mylappy2 = Laptop('HP', 16, '2TB', '720p', 450)\n",
      "\n",
      "print(mylappy2.hdd)\n",
      "mylappy2.playGame()\n",
      "print(mylappy2.space)\n",
      "\n"
     ]
    }
   ],
   "source": [
    "with open('../classes.py') as f:\n",
    "    print(f.read())"
   ]
  },
  {
   "cell_type": "code",
   "execution_count": null,
   "metadata": {},
   "outputs": [],
   "source": []
  }
 ],
 "metadata": {
  "interpreter": {
   "hash": "1e649b193d03f972cce0fc4f5c57764441ad8ceea30bfcf30b505dea29a3b4c0"
  },
  "kernelspec": {
   "display_name": "Python 3.10.0 64-bit",
   "name": "python3"
  },
  "language_info": {
   "codemirror_mode": {
    "name": "ipython",
    "version": 3
   },
   "file_extension": ".py",
   "mimetype": "text/x-python",
   "name": "python",
   "nbconvert_exporter": "python",
   "pygments_lexer": "ipython3",
   "version": "3.10.0"
  },
  "orig_nbformat": 4
 },
 "nbformat": 4,
 "nbformat_minor": 2
}
