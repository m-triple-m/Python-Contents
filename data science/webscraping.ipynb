{
 "cells": [
  {
   "cell_type": "code",
   "execution_count": 1,
   "metadata": {},
   "outputs": [],
   "source": [
    "from bs4 import BeautifulSoup\n",
    "import requests"
   ]
  },
  {
   "cell_type": "code",
   "execution_count": 2,
   "metadata": {},
   "outputs": [],
   "source": [
    "url = \"https://www.indiatoday.in/top-stories\""
   ]
  },
  {
   "cell_type": "code",
   "execution_count": 3,
   "metadata": {},
   "outputs": [],
   "source": [
    "data = requests.get(url)"
   ]
  },
  {
   "cell_type": "code",
   "execution_count": 4,
   "metadata": {},
   "outputs": [
    {
     "data": {
      "text/plain": [
       "200"
      ]
     },
     "execution_count": 4,
     "metadata": {},
     "output_type": "execute_result"
    }
   ],
   "source": [
    "data.status_code"
   ]
  },
  {
   "cell_type": "code",
   "execution_count": 6,
   "metadata": {},
   "outputs": [],
   "source": [
    "soup = BeautifulSoup(data.text)"
   ]
  },
  {
   "cell_type": "code",
   "execution_count": 9,
   "metadata": {},
   "outputs": [
    {
     "data": {
      "text/plain": [
       "'Top Stories'"
      ]
     },
     "execution_count": 9,
     "metadata": {},
     "output_type": "execute_result"
    }
   ],
   "source": [
    "soup.find('h1').text"
   ]
  },
  {
   "cell_type": "code",
   "execution_count": 20,
   "metadata": {},
   "outputs": [],
   "source": [
    "rows = soup.findAll('div', { 'class' : 'catagory-listing' })"
   ]
  },
  {
   "cell_type": "code",
   "execution_count": 17,
   "metadata": {},
   "outputs": [
    {
     "data": {
      "text/plain": [
       "12"
      ]
     },
     "execution_count": 17,
     "metadata": {},
     "output_type": "execute_result"
    }
   ],
   "source": [
    "len(rows)"
   ]
  },
  {
   "cell_type": "code",
   "execution_count": 27,
   "metadata": {},
   "outputs": [
    {
     "name": "stdout",
     "output_type": "stream",
     "text": [
      "https://akm-img-a-in.tosshub.com/indiatoday/images/story/202109/Screenshot_2021-09-30_at_11.24_1200x768.png?ncPUURrzRsfIE6ysb4utTFGlbtThNY_G&size=170:96\n",
      "Esha Deol's throwback pic features Dharmendra and two birds\n",
      "Esha Deol has shared a throwback picture with her father Dharmendra.\n",
      "\"Throwback Thursday featuring two small birdies and the He-Man,\" she wrote.\n",
      "https://akm-img-a-in.tosshub.com/indiatoday/images/story/202109/241140246_935440160344384_8984_1200x768.jpeg?KHS18T8WQFnpZGUD_6vyTPDeIY.cj_yc&size=170:96\n",
      "Vindu reveals Sidharth's fans dropped gifts for him at his nail salon\n",
      "Vindu Dara Singh revealed that Sidharth Shukla's fans would drop gifts for\n",
      "the late actor at his and his wife, Dina Umarova's, nail salon. Vindu also\n",
      "shared a throwback video featuring Sidharth.\n",
      "https://akm-img-a-in.tosshub.com/indiatoday/images/story/202109/Stock-market-opening-30092021_1200x768.png?Mfcpu6yxKHvWr7YaT5CpOSCy1NGU704W&size=170:96\n",
      "Sensex, Nifty open flat as auto stocks offset gains in state-run banks\n",
      "Benchmark market indices opened flat on Thursday as weakness in auto stocks\n",
      "negated banking gains.\n",
      "https://akm-img-a-in.tosshub.com/indiatoday/images/story/202109/Phobos.jpg?BQPqeTDXvpVtbjP_JOb5loc62sDTbm5s&size=170:96\n",
      "Why just live on Mars, when you can live on its Moon\n",
      "The habitat will simulate a long trek to Mars’ moon Phobos and other living\n",
      "conditions till November 15.\n",
      "https://akm-img-a-in.tosshub.com/indiatoday/images/story/202109/rape_representational.jpeg?obqo1N4JVsThHo4qul81rsSqqejmWKej&size=170:96\n",
      "Student gang-raped in abandoned building in Telangana, 5 arrested\n",
      "A 20-year-old student was gang-raped at an abandoned hospital building in\n",
      "Telangana's Nizamabad district. Five men have been arrested for their\n",
      "involvement in the crime, police said.\n",
      "https://akm-img-a-in.tosshub.com/indiatoday/images/story/202109/woww.jpg?2ZsgG717IOMOMDVGqYz2Q.UZBNWRRDEO&size=170:96\n",
      "This viral TikTok maths riddle has left netizens baffled\n",
      "The video was originally shared by TikTok user Karin Gendi. The video shows\n",
      "her offering a piece of paper to her friends with some numbers scribbled on\n",
      "it.\n",
      "https://akm-img-a-in.tosshub.com/indiatoday/images/story/202109/GettyImages-494691340_1200x768.jpeg?xg59QC76gjOPiPxwlnDpn.wm7XajibUB&size=170:96\n",
      "No Time To Die Movie Review: Daniel Craig has saved James Bond\n",
      "No Time To Die released in India today (September 30). The film is Daniel\n",
      "Craig's last outing as James Bond.\n",
      "https://akm-img-a-in.tosshub.com/indiatoday/images/story/202109/Nani_Sai_Dharam_Tej_1200x768.jpeg?tztY_LEOrVfl6Abq.kvxc2ZgjWXjIyja&size=170:96\n",
      "Nani reviews Sai Dharam Tej's Republic ahead of release\n",
      "Nani watched the special screening of Sai Dharam Tej's Republic and was all\n",
      "praise for the film. Director Deva Katta's Republic is due for release on\n",
      "October 1 in theatres.\n",
      "https://akm-img-a-in.tosshub.com/indiatoday/images/story/202109/KS_Bharat_1200x768.jpeg?EIa3wIKJsI1YjdFPCTlXSLRicGMj_gB5&size=170:96\n",
      "IPL 2021: Yuzvendra Chahal keeps the keeper interested, says RCB batsman KS Bharat\n",
      "Royal Challengers Bangalore wicket-keeper KS Bharat said that he was happy to\n",
      "provide a stable base as a number three batsman, for finishers like Glenn\n",
      "Maxwell.\n",
      "https://akm-img-a-in.tosshub.com/indiatoday/images/story/202109/saheb-biwi-aur-gangster_1200x768.jpeg?7WDaQQM_.yiTJNMjS0GcrAGveGrrjJih&size=170:96\n",
      "Saheb Biwi Aur Gangster is a gripping tale of politics and lust\n",
      "Directed by Tigmanshu Dhulia, Saheb Biwi Aur Gangster is a story of power,\n",
      "politics and lust. The film starred Jimmy Sheirgill, Mahie Gill and Randeep\n",
      "Hooda in lead roles.\n",
      "https://akm-img-a-in.tosshub.com/indiatoday/images/story/202109/BeFunky-collage_83.jpg?C5VDpr64puuNzxhGwokMC.m37dwu6f0z&size=170:96\n",
      "Abhinav Kohli reacts as estranged wife Shweta Tiwari gets hospitalised\n",
      "Shweta Tiwari has been admitted to the hospital due to low blood pressure and\n",
      "weakness. Her estranged husband, Abhinav Kohli, has posted a note wishing her\n",
      "a speedy recovery.\n",
      "https://akm-img-a-in.tosshub.com/indiatoday/images/story/202109/Sibal_protest_PTI_1200x768.jpeg?fBXYOgKhszb48M2fYZ.TFz8_iz.xen6w&size=170:96\n",
      "Anand Sharma slams 'hooliganism' outside Kapil Sibal's house, urges Sonia Gandhi to take action\n",
      "Senior Congress leader Anand Sharma slammed the protest by party workers\n",
      "outside Kapil Sibal's house and called it \"hooliganism'. Sharma also urged\n",
      "Sonia Gandhi to take action against those involved in the protest.\n"
     ]
    }
   ],
   "source": [
    "for news in rows:\n",
    "    print(news.find('img').attrs.get('src'))\n",
    "    print(news.find('h2').text)\n",
    "    print(news.find('p').text)\n",
    "    "
   ]
  },
  {
   "cell_type": "code",
   "execution_count": 2,
   "metadata": {},
   "outputs": [],
   "source": [
    "url1 = \"https://timesofindia.indiatimes.com/mostread.cms?day=1\""
   ]
  },
  {
   "cell_type": "code",
   "execution_count": 3,
   "metadata": {},
   "outputs": [],
   "source": [
    "data = requests.get(url1)"
   ]
  },
  {
   "cell_type": "code",
   "execution_count": 4,
   "metadata": {},
   "outputs": [],
   "source": [
    "soup1 = BeautifulSoup(data.text)"
   ]
  },
  {
   "cell_type": "code",
   "execution_count": 21,
   "metadata": {},
   "outputs": [
    {
     "name": "stdout",
     "output_type": "stream",
     "text": [
      "Horoscope Today, 30 September 2021: Check astrological prediction for Aries, Taurus, Gemini, Cancer and other signs\n",
      "No Summary\n",
      "===========================================================================================\n",
      "Covid-19: China vaccine diplomacy wavers as nations seek western shots\n",
      "Many governments that once relied on vaccines from Sinovac Biotech Ltd or Sinopharm Group Co Ltd are now turning to options from the US and Europe instead, as concerns mount about Chinese vaccines’ efficacy against the delta strain and the Western stranglehold on mRNA supplies grows looser.\n",
      "===========================================================================================\n",
      "‘WHO stand on Covaxin a serious setback for India’\n",
      "A national network of scientists and people’s science movements has expressed concern over the World Health Organisation (WHO) not granting emergency use listing for ICMR-Bharat Biotech’s Covaxin. It warned that India looked set to repeat the blunders it committed in the Covaxin approval process in the way it was approving Zydus Cadilla’s ZyCov-D three-dose vaccine for those 12 years and older.\n",
      "===========================================================================================\n",
      "Mahindra XUV700 launched, full variant-wise price list announced\n",
      "The XUV700 starts at Rs 11.99 lakh for the MX series (MT, petrol, 5-Seater) and Rs 12.99 lakh for the AX series (MT, petrol, 5-Seater) (ex-showroom, all-India).\n",
      "===========================================================================================\n",
      "Kannada television actress Soujanya dies by suicide; hangs herself to death\n",
      "Actress Soujanya died by suicide. According to reports, the actress hung herself to death in the confines of her apartment in Kumbalgodu in Bengaluru.\n",
      "===========================================================================================\n",
      "No player complained about Virat Kohli to BCCI, either in writing or verbally: BCCI treasurer Arun Dhumal\n",
      "Putting a whole lot of two and twos together, sections of the media reported this week about Indian cricketers calling BCCI secretary Jay Shah to complain about Virat Kohli and his captaincy, and the BCCI decided to step in. The BCCI, once again for the record, had no role to play in Kohli resigning as captain of the T20 team. It was the cricketer's own decision.\n",
      "===========================================================================================\n",
      "India set to take part in SCO anti-terror exercise in Pakistan\n",
      "India is likely to send a three-member team to participate in a Shanghai Cooperation Organisation (SCO) anti-terror exercise in Pakistan next week, TOI has learnt. The exercise is being held at Pabbi in Pakistan’s Nowshera district from October 3 under the aegis of SCO Regional Anti-Terrorist Structure which seeks to promote counter-terrorism cooperation between SCO member-states.\n",
      "===========================================================================================\n",
      "Can't stay in Congress  where I am insulted, but will not join BJP: Amarinder Singh\n",
      "Former Punjab chief minister Amarinder Singh on Thursday said he will not continue with the Congress, but also made it clear that he is not joining the BJP. He also removed Congress party's name from his Twitter bio.\n",
      "===========================================================================================\n",
      "Early signs of dementia can appear 18 years before diagnosis, as per study\n",
      "Dementia refers to a group of symptoms that can range from memory loss to impaired thinking and problem-solving abilities that usually affects people in old age. Dementia is a general disease. That said, it can be caused by other illnesses.\n",
      "===========================================================================================\n",
      "After meeting Amit Shah, Amarinder Singh meets NSA Ajit Doval in Delhi\n",
      "No Summary\n",
      "===========================================================================================\n",
      "Amarinder meets Shah, stokes buzz of move ahead of Punjab polls\n",
      "Former Punjab CM Captain Amarinder Singh on Wednesday called on Union home minister Amit Shah at the latter’s residence here. The two leaders had a meeting of over 50 minutes, boosting speculation about the Congress leader either joining BJP or allying with it for the Punjab polls.\n",
      "===========================================================================================\n",
      "Loyalists target Sibal, G-23, accuse them of betrayal\n",
      "The turmoil in Punjab Congress and the G-23 offensive against the leadership has triggered a bitter war of words, with Congress leaders slamming Kapil Sibal and some others for raising concerns about “instability in Punjab”. Former MP and Delhi leader Ajay Maken said, “Sonia Gandhi had ensured that Sibal became a minister at the Centre despite not having an organisational background. Everyone in the party is being heard. Want to tell Sibal and others that they shouldn’t degrade the organization that gave them an identity.”\n",
      "===========================================================================================\n",
      "October 2021 love life horoscope for all zodiac signs, as per tarot\n",
      "How is the tenth month of this year going to treat you? Is the Durga Pujo season going to be lucky for some love birds? Will you meet the partner you wanted? Is married life blissful as per the tarot card reader’s predictions ? Find out what your zodiac sign will experience in your love life in October, 2021.\n",
      "===========================================================================================\n",
      "Punjab Police constable answer key released, here's link\n",
      "No Summary\n",
      "===========================================================================================\n",
      "Taimur photobombs Kareena Kapoor Khan and Neha Dhupia's selfie at Inaaya's birthday party\n",
      "Kareena Kapoor Khan, Neha Dhupia and other moms had fun with their girl gang at Soha Ali Khan's daughter Inaaya Naumi Kemmu’s birthday bash.\n",
      "===========================================================================================\n",
      "How can highways be blocked perpetually, asks SC; says executive's duty to implement law\n",
      "No Summary\n",
      "===========================================================================================\n",
      "Congress headless, no one knows who’s taking decisions: Sibal\n",
      "Amid growing defections from the party and the chaos in the Punjab unit, Congress veteran and G-23 leader Ghulam Nabi Azad has asked the leadership to convene a meeting of the Congress Working Committee. The demand for the CWC meeting was accompanied by renewed sniping from G-23 targeting the Gandhis, without naming them.\n",
      "===========================================================================================\n",
      "Rhea Chakraborty turned down more than Rs 35 lakh per week from 'Bigg Boss'\n",
      "Rhea Chakraborty was offered much more than Rs 35 crores to be part of ‘Bigg Boss 15’.  The actress who is running a dry spell and needs it more than ever has politely turned down the offer.\n",
      "===========================================================================================\n",
      "Govt hikes gas price by 62%; CNG rates may go up\n",
      "The government on Thursday hiked by 62 per cent the price of natural gas that is used to produce electricity, make fertilisers and turned into CNG to use as fuel in automobiles and cooking gas for household kitchens.\n",
      "===========================================================================================\n",
      "Punjab: Tangled Channi-Sidhu strife working both ways for Congress\n",
      "Suggestions, both subtle and open, are being made that Navjot Singh Sidhu is not accepting Charanjit Singh Channi as the latter is a scheduled caste (SC) and these seem to be percolating down among the community.\n",
      "===========================================================================================\n",
      "'Stop tagging me, I'm not former CM of Punjab': Footballer Amrinder Singh\n",
      "Amrinder Singh is fed up! No not Captain Amarinder Singh but Indian football team's goalkeeper who shares his name with the former Punjab chief minister and has been inadvertently caught up in the political whirlwind in Punjab.\n",
      "===========================================================================================\n",
      "Tata Punch official debut, specifications reveal on October 4\n",
      "Tata Punch, which will take on the likes of Maruti Celerio, Mahindra KUV100 and Hyundai Grand i10 Nios, is expected to go on sale by mid-October.\n",
      "===========================================================================================\n",
      "Millets: Two gluten-free grains to add to your diet\n",
      "Only those suffering from celiac disease or gluten sensitivity should avoid the grains containing gluten as it may lead to indigestion and inflammation in the linings of the digestive system.\n",
      "===========================================================================================\n",
      "Intermittent fasting is not a long term solution to weight loss: Guru Mann\n",
      "The biggest mistake that people make is they try to copy what's working for someone else. Everyone is different and what works for them may not work for you.\n",
      "===========================================================================================\n",
      "Kaun Banega Crorepati 13: Contestant Savita Bhati fails to win Rs 1 crore despite knowing the answer\n",
      "In the latest episode of Kaun Banega Crorepati 13, the game begins with rollover contestant Savita, who had won Rs 12,50,000. With 50-50 lifeline left, she plays the game for Rs 25 lakh.\n",
      "===========================================================================================\n",
      "Maharashtra govt warms up to blockchain tech for tamper-proof education certificates\n",
      "It is in this context that the move by Maharashtra government to partner with LegitDoc, an Indian blockchain start-up, signals intent on part of the authorities to tackle such misuse of technology. \n",
      "===========================================================================================\n",
      "Mumbai: 29 MBBS students at KEM hospital test positive for Covid-19\n",
      "As many as 29 students in Mumbai's civic-run King Edward Memorial (KEM) hospital have tested positive for Covid-19.\n",
      "===========================================================================================\n",
      "Exclusive - Shweta Tiwari's estranged husband Abhinav Kohli gets a huge relief; Court grants permission of meeting and speaking to son Reyaansh; the actor reacts\n",
      "Abhinav has been granted permission to speak to his son Reyaansh for 30 minutes on weekdays through video conference and meet on weekends for two hours.\n",
      "===========================================================================================\n",
      "Tokyo Olympic stars Rupinder Pal Singh, Birendra Lakra retire from international hockey\n",
      "Drag-flicker Rupinder Pal Singh and defender Birendra Lakra, who played starring roles in the Indian hockey team's historic bronze medal-winning Tokyo Olympics campaign, on Thursday announced their international retirements within hours of each other, creating quite a flutter.\n",
      "===========================================================================================\n",
      "RBI's new auto-debit rules to set in from October 1: Things to know\n",
      " India's top banks have been sending emails and coordinating with customers, ahead of the Reserve Bank of India's (RBI) mandatory changes on auto-debit rules.\n",
      "===========================================================================================\n"
     ]
    }
   ],
   "source": [
    "for news in soup1.find('div', {'class' : 'main-content'}).findAll('li', {'class' : 'clearfix'}):\n",
    "    print(news.find('span').find('a').text)\n",
    "    summary = news.find('span').find('art_synopsis')\n",
    "\n",
    "    if summary:\n",
    "        print(summary.text)\n",
    "    else:\n",
    "        print('No Summary')\n",
    "\n",
    "    print('===========================================================================================')"
   ]
  },
  {
   "cell_type": "code",
   "execution_count": 1,
   "metadata": {},
   "outputs": [],
   "source": [
    "from sqlalchemy.orm import sessionmaker"
   ]
  },
  {
   "cell_type": "code",
   "execution_count": null,
   "metadata": {},
   "outputs": [],
   "source": []
  }
 ],
 "metadata": {
  "interpreter": {
   "hash": "b3ba2566441a7c06988d0923437866b63cedc61552a5af99d1f4fb67d367b25f"
  },
  "kernelspec": {
   "display_name": "Python 3.8.8 64-bit ('base': conda)",
   "name": "python3"
  },
  "language_info": {
   "codemirror_mode": {
    "name": "ipython",
    "version": 3
   },
   "file_extension": ".py",
   "mimetype": "text/x-python",
   "name": "python",
   "nbconvert_exporter": "python",
   "pygments_lexer": "ipython3",
   "version": "3.8.8"
  },
  "orig_nbformat": 4
 },
 "nbformat": 4,
 "nbformat_minor": 2
}
